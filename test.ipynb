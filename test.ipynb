{
 "cells": [
  {
   "cell_type": "code",
   "execution_count": 1,
   "metadata": {},
   "outputs": [],
   "source": [
    "import joblib\n",
    "import os\n",
    "from main_preprocessing import preprocessing\n",
    "import supervised_ml\n",
    "import pandas as pd\n",
    "initial_data = preprocessing()[0]"
   ]
  },
  {
   "cell_type": "code",
   "execution_count": 2,
   "metadata": {},
   "outputs": [
    {
     "name": "stdout",
     "output_type": "stream",
     "text": [
      "cap-diameter\n",
      "stem-height\n",
      "stem-width\n",
      "cap-shape_b\n",
      "cap-shape_c\n",
      "cap-shape_f\n",
      "cap-shape_o\n",
      "cap-shape_p\n",
      "cap-shape_s\n",
      "cap-shape_x\n",
      "cap-surface_d\n",
      "cap-surface_e\n",
      "cap-surface_g\n",
      "cap-surface_h\n",
      "cap-surface_i\n",
      "cap-surface_k\n",
      "cap-surface_l\n",
      "cap-surface_s\n",
      "cap-surface_t\n",
      "cap-surface_w\n",
      "cap-surface_y\n",
      "cap-color_b\n",
      "cap-color_e\n",
      "cap-color_g\n",
      "cap-color_k\n",
      "cap-color_l\n",
      "cap-color_n\n",
      "cap-color_o\n",
      "cap-color_p\n",
      "cap-color_r\n",
      "cap-color_u\n",
      "cap-color_w\n",
      "cap-color_y\n",
      "does-bruise-or-bleed_f\n",
      "does-bruise-or-bleed_t\n",
      "gill-attachment_a\n",
      "gill-attachment_d\n",
      "gill-attachment_e\n",
      "gill-attachment_f\n",
      "gill-attachment_p\n",
      "gill-attachment_s\n",
      "gill-attachment_x\n",
      "gill-color_b\n",
      "gill-color_e\n",
      "gill-color_f\n",
      "gill-color_g\n",
      "gill-color_k\n",
      "gill-color_n\n",
      "gill-color_o\n",
      "gill-color_p\n",
      "gill-color_r\n",
      "gill-color_u\n",
      "gill-color_w\n",
      "gill-color_y\n",
      "stem-color_e\n",
      "stem-color_f\n",
      "stem-color_g\n",
      "stem-color_k\n",
      "stem-color_l\n",
      "stem-color_n\n",
      "stem-color_o\n",
      "stem-color_p\n",
      "stem-color_r\n",
      "stem-color_u\n",
      "stem-color_w\n",
      "stem-color_y\n",
      "has-ring_f\n",
      "has-ring_t\n",
      "ring-type_e\n",
      "ring-type_f\n",
      "ring-type_g\n",
      "ring-type_l\n",
      "ring-type_p\n",
      "ring-type_r\n",
      "ring-type_z\n",
      "habitat_d\n",
      "habitat_g\n",
      "habitat_h\n",
      "habitat_l\n",
      "habitat_m\n",
      "habitat_u\n",
      "habitat_w\n",
      "season_a\n",
      "season_s\n",
      "season_u\n",
      "season_w\n"
     ]
    }
   ],
   "source": [
    "for column in initial_data.columns:\n",
    "    print(column)"
   ]
  },
  {
   "cell_type": "code",
   "execution_count": null,
   "metadata": {},
   "outputs": [],
   "source": []
  }
 ],
 "metadata": {
  "interpreter": {
   "hash": "ea2b65024e24df10fa5992686c1c8510a4831519011fa6b2d6f1788e8385f578"
  },
  "kernelspec": {
   "display_name": "Python 3.8.12 ('PythonData')",
   "language": "python",
   "name": "python3"
  },
  "language_info": {
   "codemirror_mode": {
    "name": "ipython",
    "version": 3
   },
   "file_extension": ".py",
   "mimetype": "text/x-python",
   "name": "python",
   "nbconvert_exporter": "python",
   "pygments_lexer": "ipython3",
   "version": "3.8.11"
  },
  "orig_nbformat": 4
 },
 "nbformat": 4,
 "nbformat_minor": 2
}
