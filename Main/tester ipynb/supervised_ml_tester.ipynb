{
 "cells": [
  {
   "cell_type": "markdown",
   "metadata": {},
   "source": [
    "# Dependencies"
   ]
  },
  {
   "cell_type": "code",
   "execution_count": 25,
   "metadata": {},
   "outputs": [],
   "source": [
    "# import libraries\n",
    "from sklearn.ensemble import RandomForestClassifier, ExtraTreesClassifier\n",
    "from sklearn.metrics import classification_report, f1_score, accuracy_score, precision_score, recall_score\n",
    "from sklearn.linear_model import LogisticRegression\n",
    "from sklearn.svm import SVC\n",
    "from sklearn.neighbors import KNeighborsClassifier\n",
    "import pandas as pd\n",
    "import matplotlib.pyplot as plt\n",
    "import math"
   ]
  },
  {
   "cell_type": "code",
   "execution_count": 2,
   "metadata": {},
   "outputs": [],
   "source": [
    "# import variables from cleaner file\n",
    "import main_preprocessing\n",
    "X_train_scaled = main_preprocessing.X_train_secondary_droppedna\n",
    "X_test_scaled = main_preprocessing.X_test_secondary_droppedna\n",
    "y_train = main_preprocessing.y_train_secondary_droppedna\n",
    "y_test = main_preprocessing.y_test_secondary_droppedna\n",
    "global_random_state = main_preprocessing.global_random_state"
   ]
  },
  {
   "cell_type": "code",
   "execution_count": 3,
   "metadata": {},
   "outputs": [],
   "source": [
    "# import model saving capability for modularity\n",
    "import joblib"
   ]
  },
  {
   "cell_type": "markdown",
   "metadata": {},
   "source": [
    "# Modeling"
   ]
  },
  {
   "cell_type": "markdown",
   "metadata": {},
   "source": [
    "### General Model"
   ]
  },
  {
   "cell_type": "code",
   "execution_count": 28,
   "metadata": {},
   "outputs": [],
   "source": [
    "def fit_score(model, label):\n",
    "    model.fit(X_train_scaled, y_train)\n",
    "    y_pred = model.predict(X_test_scaled)\n",
    "    f1 = f1_score(y_test, y_pred)\n",
    "    acc = accuracy_score(y_test, y_pred)\n",
    "    prec = precision_score(y_test, y_pred)\n",
    "    rec = recall_score(y_test, y_pred)\n",
    "    print(f'-----{label}-----')\n",
    "    print(classification_report(y_test, y_pred))\n",
    "    joblib.dump(model, f'Resources/Models/{label}.pkl') #saving fitted model for modularity/passing to server\n",
    "    return [acc, f1, prec, rec]"
   ]
  },
  {
   "cell_type": "markdown",
   "metadata": {},
   "source": [
    "### Random Forest"
   ]
  },
  {
   "cell_type": "code",
   "execution_count": 5,
   "metadata": {},
   "outputs": [],
   "source": [
    "# random forest function\n",
    "def rfc():\n",
    "    clf = RandomForestClassifier(n_estimators=50, random_state=global_random_state)\n",
    "    return fit_score(clf, 'rfc')"
   ]
  },
  {
   "cell_type": "markdown",
   "metadata": {},
   "source": [
    "### Extremely Random Forest"
   ]
  },
  {
   "cell_type": "code",
   "execution_count": 6,
   "metadata": {},
   "outputs": [],
   "source": [
    "# extremely random forest function\n",
    "def erf():\n",
    "    clf = ExtraTreesClassifier(n_estimators=50, random_state=global_random_state)\n",
    "    return fit_score(clf, 'erf')"
   ]
  },
  {
   "cell_type": "markdown",
   "metadata": {},
   "source": [
    "### Logistic Regression"
   ]
  },
  {
   "cell_type": "code",
   "execution_count": 7,
   "metadata": {},
   "outputs": [],
   "source": [
    "# logistic regression function for modularization\n",
    "def lr():\n",
    "    log = LogisticRegression()\n",
    "    return fit_score(log, 'lr')"
   ]
  },
  {
   "cell_type": "markdown",
   "metadata": {},
   "source": [
    "### Support Vector Machine (SVM)"
   ]
  },
  {
   "cell_type": "code",
   "execution_count": 8,
   "metadata": {},
   "outputs": [],
   "source": [
    "# svm function for modularization\n",
    "def svm():\n",
    "    svm = SVC(kernel='linear')\n",
    "    return fit_score(svm, 'svm')"
   ]
  },
  {
   "cell_type": "markdown",
   "metadata": {},
   "source": [
    "### K-Nearest Neighhor"
   ]
  },
  {
   "cell_type": "code",
   "execution_count": 9,
   "metadata": {},
   "outputs": [],
   "source": [
    "# find the classifiers of similar mushrooms"
   ]
  },
  {
   "cell_type": "code",
   "execution_count": 10,
   "metadata": {},
   "outputs": [
    {
     "name": "stdout",
     "output_type": "stream",
     "text": [
      "k: 1, Train/Test Score: 1.000/1.000\n",
      "k: 3, Train/Test Score: 1.000/1.000\n",
      "k: 5, Train/Test Score: 1.000/1.000\n",
      "k: 7, Train/Test Score: 1.000/0.999\n",
      "k: 9, Train/Test Score: 1.000/0.999\n",
      "k: 11, Train/Test Score: 1.000/0.999\n",
      "k: 13, Train/Test Score: 1.000/0.999\n",
      "k: 15, Train/Test Score: 0.999/0.999\n",
      "k: 17, Train/Test Score: 0.999/0.999\n",
      "k: 19, Train/Test Score: 0.999/0.999\n"
     ]
    }
   ],
   "source": [
    "# first determine the best number of k\n",
    "train_scores = []\n",
    "test_scores = []\n",
    "for k in range(1, 20, 2):\n",
    "    knn = KNeighborsClassifier(n_neighbors=k)\n",
    "    knn.fit(X_train_scaled, y_train)\n",
    "    train_score = knn.score(X_train_scaled, y_train)\n",
    "    test_score = knn.score(X_test_scaled, y_test)\n",
    "    train_scores.append(train_score)\n",
    "    test_scores.append(test_score)\n",
    "    print(f\"k: {k}, Train/Test Score: {train_score:.3f}/{test_score:.3f}\")"
   ]
  },
  {
   "cell_type": "code",
   "execution_count": 11,
   "metadata": {},
   "outputs": [
    {
     "data": {
      "text/plain": [
       "<matplotlib.legend.Legend at 0x198de732940>"
      ]
     },
     "execution_count": 11,
     "metadata": {},
     "output_type": "execute_result"
    },
    {
     "data": {
      "image/png": "[encoded data removed]",
      "text/plain": [
       "<Figure size 432x288 with 1 Axes>"
      ]
     },
     "metadata": {
      "needs_background": "light"
     },
     "output_type": "display_data"
    }
   ],
   "source": [
    "# graph the results\n",
    "plt.plot(range(1, 20, 2), train_scores, marker='o', label='Train Scores')\n",
    "plt.plot(range(1, 20, 2), test_scores, marker='x', label='Test Scores')\n",
    "plt.title('Elbow Curve')\n",
    "plt.xlabel('Number of Neighbors')\n",
    "plt.ylabel('Score')\n",
    "plt.legend()"
   ]
  },
  {
   "cell_type": "code",
   "execution_count": 12,
   "metadata": {},
   "outputs": [],
   "source": [
    "# going to manually ignore k at low values due to risk of outlier influence and overfitting\n",
    "n_neighbors_manual = int(math.sqrt(len(X_train_scaled)))"
   ]
  },
  {
   "cell_type": "code",
   "execution_count": 13,
   "metadata": {},
   "outputs": [],
   "source": [
    "# knn function for modularization\n",
    "def knn_final():\n",
    "    knn = KNeighborsClassifier(n_neighbors=n_neighbors_manual)\n",
    "    return fit_score(knn, 'knn')"
   ]
  },
  {
   "cell_type": "markdown",
   "metadata": {},
   "source": [
    "### Total Comparison + Var Sav"
   ]
  },
  {
   "cell_type": "code",
   "execution_count": 14,
   "metadata": {},
   "outputs": [],
   "source": [
    "# need to run each function solo or else run into iteration depth limit problem\n",
    "# focus on recall score"
   ]
  },
  {
   "cell_type": "code",
   "execution_count": 29,
   "metadata": {},
   "outputs": [
    {
     "name": "stdout",
     "output_type": "stream",
     "text": [
      "-----rfc-----\n",
      "              precision    recall  f1-score   support\n",
      "\n",
      "           0       1.00      1.00      1.00      5069\n",
      "           1       1.00      1.00      1.00      4198\n",
      "\n",
      "    accuracy                           1.00      9267\n",
      "   macro avg       1.00      1.00      1.00      9267\n",
      "weighted avg       1.00      1.00      1.00      9267\n",
      "\n"
     ]
    },
    {
     "data": {
      "text/plain": [
       "[1.0, 1.0, 1.0, 1.0, 1.0]"
      ]
     },
     "execution_count": 29,
     "metadata": {},
     "output_type": "execute_result"
    }
   ],
   "source": [
    "rfc_computed = rfc()\n",
    "rfc_computed"
   ]
  },
  {
   "cell_type": "code",
   "execution_count": 30,
   "metadata": {},
   "outputs": [
    {
     "name": "stdout",
     "output_type": "stream",
     "text": [
      "-----erf-----\n",
      "              precision    recall  f1-score   support\n",
      "\n",
      "           0       1.00      1.00      1.00      5069\n",
      "           1       1.00      1.00      1.00      4198\n",
      "\n",
      "    accuracy                           1.00      9267\n",
      "   macro avg       1.00      1.00      1.00      9267\n",
      "weighted avg       1.00      1.00      1.00      9267\n",
      "\n"
     ]
    },
    {
     "data": {
      "text/plain": [
       "[0.9998920902125823,\n",
       " 0.9998808814770698,\n",
       " 0.9998920902125823,\n",
       " 1.0,\n",
       " 0.9997617913292044]"
      ]
     },
     "execution_count": 30,
     "metadata": {},
     "output_type": "execute_result"
    }
   ],
   "source": [
    "erf_computed = erf()\n",
    "erf_computed"
   ]
  },
  {
   "cell_type": "code",
   "execution_count": 31,
   "metadata": {},
   "outputs": [
    {
     "name": "stdout",
     "output_type": "stream",
     "text": [
      "-----lr-----\n",
      "              precision    recall  f1-score   support\n",
      "\n",
      "           0       0.82      0.79      0.81      5069\n",
      "           1       0.76      0.79      0.78      4198\n",
      "\n",
      "    accuracy                           0.79      9267\n",
      "   macro avg       0.79      0.79      0.79      9267\n",
      "weighted avg       0.79      0.79      0.79      9267\n",
      "\n"
     ]
    },
    {
     "name": "stderr",
     "output_type": "stream",
     "text": [
      "C:\\Users\\Chrismus Time\\anaconda3\\envs\\PythonData\\lib\\site-packages\\sklearn\\linear_model\\_logistic.py:763: ConvergenceWarning: lbfgs failed to converge (status=1):\n",
      "STOP: TOTAL NO. of ITERATIONS REACHED LIMIT.\n",
      "\n",
      "Increase the number of iterations (max_iter) or scale the data as shown in:\n",
      "    https://scikit-learn.org/stable/modules/preprocessing.html\n",
      "Please also refer to the documentation for alternative solver options:\n",
      "    https://scikit-learn.org/stable/modules/linear_model.html#logistic-regression\n",
      "  n_iter_i = _check_optimize_result(\n"
     ]
    },
    {
     "data": {
      "text/plain": [
       "[0.7930290277328154,\n",
       " 0.7763004432003733,\n",
       " 0.7930290277328154,\n",
       " 0.7605118829981719,\n",
       " 0.7927584564078133]"
      ]
     },
     "execution_count": 31,
     "metadata": {},
     "output_type": "execute_result"
    }
   ],
   "source": [
    "lr_computed = lr()\n",
    "lr_computed"
   ]
  },
  {
   "cell_type": "code",
   "execution_count": 32,
   "metadata": {},
   "outputs": [],
   "source": [
    "svm_computed = svm()\n",
    "svm_computed"
   ]
  },
  {
   "cell_type": "markdown",
   "metadata": {},
   "source": [
    "### Total Classifiers"
   ]
  },
  {
   "cell_type": "code",
   "execution_count": 19,
   "metadata": {},
   "outputs": [
    {
     "name": "stdout",
     "output_type": "stream",
     "text": [
      "-----knn-----\n",
      "              precision    recall  f1-score   support\n",
      "\n",
      "           0       0.98      0.99      0.98      5069\n",
      "           1       0.98      0.97      0.98      4198\n",
      "\n",
      "    accuracy                           0.98      9267\n",
      "   macro avg       0.98      0.98      0.98      9267\n",
      "weighted avg       0.98      0.98      0.98      9267\n",
      "\n"
     ]
    },
    {
     "data": {
      "text/plain": [
       "0.978525952303874"
      ]
     },
     "execution_count": 19,
     "metadata": {},
     "output_type": "execute_result"
    }
   ],
   "source": [
    "knn_computed = knn_final()\n",
    "knn_computed"
   ]
  }
 ],
 "metadata": {
  "interpreter": {
   "hash": "ea2b65024e24df10fa5992686c1c8510a4831519011fa6b2d6f1788e8385f578"
  },
  "kernelspec": {
   "display_name": "Python 3.8.12 ('PythonData')",
   "language": "python",
   "name": "python3"
  },
  "language_info": {
   "codemirror_mode": {
    "name": "ipython",
    "version": 3
   },
   "file_extension": ".py",
   "mimetype": "text/x-python",
   "name": "python",
   "nbconvert_exporter": "python",
   "pygments_lexer": "ipython3",
   "version": "3.8.12"
  },
  "orig_nbformat": 4
 },
 "nbformat": 4,
 "nbformat_minor": 2
}
