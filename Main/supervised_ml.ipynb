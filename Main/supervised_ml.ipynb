{
 "cells": [
  {
   "cell_type": "markdown",
   "metadata": {},
   "source": [
    "# Dependencies"
   ]
  },
  {
   "cell_type": "code",
   "execution_count": 78,
   "metadata": {},
   "outputs": [],
   "source": [
    "# import libraries\n",
    "from sklearn.ensemble import RandomForestClassifier, ExtraTreesClassifier\n",
    "from sklearn.metrics import classification_report\n",
    "from sklearn.linear_model import LogisticRegression\n",
    "from sklearn.svm import SVC\n",
    "from sklearn.neighbors import KNeighborsClassifier\n",
    "import pandas as pd\n",
    "import matplotlib.pyplot as plt"
   ]
  },
  {
   "cell_type": "code",
   "execution_count": 79,
   "metadata": {},
   "outputs": [],
   "source": [
    "# import variables from cleaner file\n",
    "import main_preprocessing\n",
    "X_train_scaled = main_preprocessing.X_train_secondary_droppedna\n",
    "X_test_scaled = main_preprocessing.X_test_secondary_droppedna\n",
    "y_train = main_preprocessing.y_train_secondary_droppedna\n",
    "y_test = main_preprocessing.y_test_secondary_droppedna\n",
    "global_random_state = main_preprocessing.global_random_state"
   ]
  },
  {
   "cell_type": "markdown",
   "metadata": {},
   "source": [
    "# Modeling"
   ]
  },
  {
   "cell_type": "markdown",
   "metadata": {},
   "source": [
    "### General Model"
   ]
  },
  {
   "cell_type": "code",
   "execution_count": 67,
   "metadata": {},
   "outputs": [],
   "source": [
    "def fit_score(model, label):\n",
    "    model.fit(X_train_scaled, y_train)\n",
    "    score = model.score(X_test_scaled, y_test)\n",
    "    y_pred = model.predict(X_test_scaled)\n",
    "    print(f'-----{label}-----')\n",
    "    print(classification_report(y_test, y_pred))\n",
    "    return score"
   ]
  },
  {
   "cell_type": "markdown",
   "metadata": {},
   "source": [
    "### Random Forest"
   ]
  },
  {
   "cell_type": "code",
   "execution_count": 68,
   "metadata": {},
   "outputs": [],
   "source": [
    "# random forest function\n",
    "def rfc():\n",
    "    clf = RandomForestClassifier(n_estimators=50, random_state=global_random_state)\n",
    "    return fit_score(clf, 'RANDOM FOREST')"
   ]
  },
  {
   "cell_type": "markdown",
   "metadata": {},
   "source": [
    "### Extremely Random Forest"
   ]
  },
  {
   "cell_type": "code",
   "execution_count": 69,
   "metadata": {},
   "outputs": [],
   "source": [
    "# extremely random forest function\n",
    "def erf():\n",
    "    clf = ExtraTreesClassifier(n_estimators=50, random_state=global_random_state)\n",
    "    return fit_score(clf, 'EXTREMELY RANDOM FOREST')"
   ]
  },
  {
   "cell_type": "markdown",
   "metadata": {},
   "source": [
    "### Logistic Regression"
   ]
  },
  {
   "cell_type": "code",
   "execution_count": 70,
   "metadata": {},
   "outputs": [],
   "source": [
    "# logistic regression function for modularization\n",
    "def lr():\n",
    "    log = LogisticRegression()\n",
    "    return fit_score(log, 'LOGISTIC REGRESSION')"
   ]
  },
  {
   "cell_type": "markdown",
   "metadata": {},
   "source": [
    "### Support Vector Machine (SVM)"
   ]
  },
  {
   "cell_type": "code",
   "execution_count": 71,
   "metadata": {},
   "outputs": [],
   "source": [
    "# svm function for modularization\n",
    "def svm():\n",
    "    svm = SVC(kernel='linear')\n",
    "    return fit_score(svm, 'SUPPORT VECTOR MACHINE')"
   ]
  },
  {
   "cell_type": "markdown",
   "metadata": {},
   "source": [
    "### K-Nearest Neighhor"
   ]
  },
  {
   "cell_type": "code",
   "execution_count": 72,
   "metadata": {},
   "outputs": [
    {
     "name": "stdout",
     "output_type": "stream",
     "text": [
      "k: 1, Train/Test Score: 0.999/0.515\n",
      "k: 3, Train/Test Score: 0.744/0.519\n",
      "k: 5, Train/Test Score: 0.681/0.510\n",
      "k: 7, Train/Test Score: 0.649/0.494\n",
      "k: 9, Train/Test Score: 0.632/0.496\n",
      "k: 11, Train/Test Score: 0.614/0.486\n",
      "k: 13, Train/Test Score: 0.605/0.491\n",
      "k: 15, Train/Test Score: 0.596/0.486\n",
      "k: 17, Train/Test Score: 0.596/0.488\n",
      "k: 19, Train/Test Score: 0.593/0.492\n"
     ]
    }
   ],
   "source": [
    "# first determine the best number of k\n",
    "train_scores = []\n",
    "test_scores = []\n",
    "for k in range(1, 20, 2):\n",
    "    knn = KNeighborsClassifier(n_neighbors=k)\n",
    "    knn.fit(X_train_scaled, y_train)\n",
    "    train_score = knn.score(X_train_scaled, y_train)\n",
    "    test_score = knn.score(X_test_scaled, y_test)\n",
    "    train_scores.append(train_score)\n",
    "    test_scores.append(test_score)\n",
    "    print(f\"k: {k}, Train/Test Score: {train_score:.3f}/{test_score:.3f}\")"
   ]
  },
  {
   "cell_type": "code",
   "execution_count": 73,
   "metadata": {},
   "outputs": [
    {
     "data": {
      "text/plain": [
       "Text(0, 0.5, 'Testing accuracy Score')"
      ]
     },
     "execution_count": 73,
     "metadata": {},
     "output_type": "execute_result"
    },
    {
     "data": {
      "image/png": "[encoded data removed]",
      "text/plain": [
       "<Figure size 432x288 with 1 Axes>"
      ]
     },
     "metadata": {
      "needs_background": "light"
     },
     "output_type": "display_data"
    }
   ],
   "source": [
    "# graph the results\n",
    "plt.plot(range(1, 20, 2), train_scores, marker='o')\n",
    "plt.plot(range(1, 20, 2), test_scores, marker=\"x\")\n",
    "plt.xlabel(\"k neighbors\")\n",
    "plt.ylabel(\"Testing accuracy Score\")"
   ]
  },
  {
   "cell_type": "code",
   "execution_count": 74,
   "metadata": {},
   "outputs": [],
   "source": [
    "# logistic regression function for modularization\n",
    "def knn_final():\n",
    "    knn = KNeighborsClassifier(n_neighbors=1)\n",
    "    return fit_score(knn, 'KNEAREST NEIGHBORS')"
   ]
  },
  {
   "cell_type": "markdown",
   "metadata": {},
   "source": [
    "### Total Comparison"
   ]
  },
  {
   "cell_type": "code",
   "execution_count": 75,
   "metadata": {},
   "outputs": [],
   "source": [
    "# defining mega function to compare all supervised learning models\n",
    "def model_tester():\n",
    "  rfc()\n",
    "  erf()\n",
    "  lr()\n",
    "  svm()\n",
    "  knn_final()\n",
    "  return"
   ]
  },
  {
   "cell_type": "code",
   "execution_count": 76,
   "metadata": {},
   "outputs": [
    {
     "name": "stdout",
     "output_type": "stream",
     "text": [
      "-----RANDOM FOREST-----\n",
      "              precision    recall  f1-score   support\n",
      "\n",
      "           0       0.67      0.52      0.58       725\n",
      "           1       0.36      0.51      0.42       382\n",
      "\n",
      "    accuracy                           0.51      1107\n",
      "   macro avg       0.51      0.51      0.50      1107\n",
      "weighted avg       0.56      0.51      0.53      1107\n",
      "\n",
      "-----EXTREMELY RANDOM FOREST-----\n",
      "              precision    recall  f1-score   support\n",
      "\n",
      "           0       0.67      0.52      0.58       725\n",
      "           1       0.36      0.51      0.42       382\n",
      "\n",
      "    accuracy                           0.52      1107\n",
      "   macro avg       0.51      0.51      0.50      1107\n",
      "weighted avg       0.56      0.52      0.53      1107\n",
      "\n",
      "-----LOGISTIC REGRESSION-----\n",
      "              precision    recall  f1-score   support\n",
      "\n",
      "           0       0.67      0.46      0.54       725\n",
      "           1       0.36      0.57      0.44       382\n",
      "\n",
      "    accuracy                           0.50      1107\n",
      "   macro avg       0.51      0.51      0.49      1107\n",
      "weighted avg       0.56      0.50      0.51      1107\n",
      "\n",
      "-----SUPPORT VECTOR MACHINE-----\n",
      "              precision    recall  f1-score   support\n",
      "\n",
      "           0       0.66      0.48      0.56       725\n",
      "           1       0.35      0.53      0.42       382\n",
      "\n",
      "    accuracy                           0.50      1107\n",
      "   macro avg       0.51      0.51      0.49      1107\n",
      "weighted avg       0.56      0.50      0.51      1107\n",
      "\n",
      "-----KNEAREST NEIGHBORS-----\n",
      "              precision    recall  f1-score   support\n",
      "\n",
      "           0       0.66      0.52      0.59       725\n",
      "           1       0.36      0.50      0.41       382\n",
      "\n",
      "    accuracy                           0.51      1107\n",
      "   macro avg       0.51      0.51      0.50      1107\n",
      "weighted avg       0.56      0.51      0.53      1107\n",
      "\n"
     ]
    }
   ],
   "source": [
    "# running all supervised learning models\n",
    "model_tester()"
   ]
  },
  {
   "cell_type": "code",
   "execution_count": null,
   "metadata": {},
   "outputs": [],
   "source": []
  }
 ],
 "metadata": {
  "interpreter": {
   "hash": "ea2b65024e24df10fa5992686c1c8510a4831519011fa6b2d6f1788e8385f578"
  },
  "kernelspec": {
   "display_name": "Python 3.8.12 ('PythonData')",
   "language": "python",
   "name": "python3"
  },
  "language_info": {
   "codemirror_mode": {
    "name": "ipython",
    "version": 3
   },
   "file_extension": ".py",
   "mimetype": "text/x-python",
   "name": "python",
   "nbconvert_exporter": "python",
   "pygments_lexer": "ipython3",
   "version": "3.8.12"
  },
  "orig_nbformat": 4
 },
 "nbformat": 4,
 "nbformat_minor": 2
}
